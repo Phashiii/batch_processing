{
 "cells": [
  {
   "cell_type": "code",
   "execution_count": 7,
   "id": "ecfea83d-f4da-4cef-8b7b-bc9644c903c5",
   "metadata": {},
   "outputs": [],
   "source": [
    "import pyspark\n",
    "from pyspark.sql import SparkSession\n",
    "from pyspark.sql import functions as F"
   ]
  },
  {
   "cell_type": "code",
   "execution_count": 8,
   "id": "368764c3-4fe5-4575-819b-3a05767fd431",
   "metadata": {},
   "outputs": [
    {
     "name": "stderr",
     "output_type": "stream",
     "text": [
      "Setting default log level to \"WARN\".\n",
      "To adjust logging level use sc.setLogLevel(newLevel). For SparkR, use setLogLevel(newLevel).\n",
      "24/07/30 07:03:09 WARN NativeCodeLoader: Unable to load native-hadoop library for your platform... using builtin-java classes where applicable\n"
     ]
    }
   ],
   "source": [
    "spark = SparkSession.builder \\\n",
    "    .appName('test') \\\n",
    "    .getOrCreate()"
   ]
  },
  {
   "cell_type": "code",
   "execution_count": 5,
   "id": "be33ee51-4c40-473b-8d05-5535225161d8",
   "metadata": {},
   "outputs": [],
   "source": [
    "import requests\n",
    "\n",
    "def download_file(url, save_path):\n",
    "    try:\n",
    "        response = requests.get(url)\n",
    "        if response.status_code == 200:\n",
    "            with open(save_path, 'wb') as file:\n",
    "                file.write(response.content)\n",
    "            print(f\"File downloaded successfully and saved as {save_path}\")\n",
    "        else:\n",
    "            print(f\"Error downloading file. Status code: {response.status_code}\")\n",
    "    except Exception as e:\n",
    "        print(f\"Error downloading file: {e}\")"
   ]
  },
  {
   "cell_type": "code",
   "execution_count": 6,
   "id": "9bc65cae-1448-4003-b55e-a5d52f7440b8",
   "metadata": {},
   "outputs": [
    {
     "name": "stdout",
     "output_type": "stream",
     "text": [
      "File downloaded successfully and saved as yellow-2021-1.parquet\n",
      "File downloaded successfully and saved as green-2021-1.parquet\n",
      "File downloaded successfully and saved as yellow-2021-2.parquet\n",
      "File downloaded successfully and saved as green-2021-2.parquet\n",
      "File downloaded successfully and saved as yellow-2021-3.parquet\n",
      "File downloaded successfully and saved as green-2021-3.parquet\n",
      "File downloaded successfully and saved as yellow-2021-4.parquet\n",
      "File downloaded successfully and saved as green-2021-4.parquet\n",
      "File downloaded successfully and saved as yellow-2021-5.parquet\n",
      "File downloaded successfully and saved as green-2021-5.parquet\n",
      "File downloaded successfully and saved as yellow-2021-6.parquet\n",
      "File downloaded successfully and saved as green-2021-6.parquet\n",
      "File downloaded successfully and saved as yellow-2021-7.parquet\n",
      "File downloaded successfully and saved as green-2021-7.parquet\n",
      "File downloaded successfully and saved as yellow-2021-8.parquet\n",
      "File downloaded successfully and saved as green-2021-8.parquet\n",
      "File downloaded successfully and saved as yellow-2021-9.parquet\n",
      "File downloaded successfully and saved as green-2021-9.parquet\n",
      "File downloaded successfully and saved as yellow-2021-10.parquet\n",
      "File downloaded successfully and saved as green-2021-10.parquet\n",
      "File downloaded successfully and saved as yellow-2021-11.parquet\n",
      "File downloaded successfully and saved as green-2021-11.parquet\n",
      "File downloaded successfully and saved as yellow-2021-12.parquet\n",
      "File downloaded successfully and saved as green-2021-12.parquet\n"
     ]
    }
   ],
   "source": [
    "for month in range(1, 13):\n",
    "    yellow_taxi_saved = f\"yellow-2021-{month}.parquet\"\n",
    "    green_taxi_saved = f\"green-2021-{month}.parquet\"\n",
    "\n",
    "    if month < 10:\n",
    "        yellow_taxi_url = f\"https://d37ci6vzurychx.cloudfront.net/trip-data/yellow_tripdata_2021-0{month}.parquet\"\n",
    "        green_taxi_url = f\"https://d37ci6vzurychx.cloudfront.net/trip-data/green_tripdata_2021-0{month}.parquet\"\n",
    "    else:\n",
    "        yellow_taxi_url = f\"https://d37ci6vzurychx.cloudfront.net/trip-data/yellow_tripdata_2021-{month}.parquet\"\n",
    "        green_taxi_url = f\"https://d37ci6vzurychx.cloudfront.net/trip-data/green_tripdata_2021-{month}.parquet\"\n",
    "    \n",
    "    download_file(yellow_taxi_url, yellow_taxi_saved)\n",
    "    download_file(green_taxi_url, green_taxi_saved)\n",
    "    "
   ]
  },
  {
   "cell_type": "code",
   "execution_count": 17,
   "id": "666298b8-9108-4f6f-86e8-212b225a93e3",
   "metadata": {},
   "outputs": [],
   "source": [
    "df_green = spark.read.parquet('green-taxi/*')\n",
    "df_yellow = spark.read.parquet('yellow-taxi/*')"
   ]
  },
  {
   "cell_type": "code",
   "execution_count": 18,
   "id": "8f34594b-6c69-4233-8286-4cb063b66fb3",
   "metadata": {},
   "outputs": [
    {
     "name": "stdout",
     "output_type": "stream",
     "text": [
      "root\n",
      " |-- VendorID: long (nullable = true)\n",
      " |-- tpep_pickup_datetime: timestamp_ntz (nullable = true)\n",
      " |-- tpep_dropoff_datetime: timestamp_ntz (nullable = true)\n",
      " |-- passenger_count: double (nullable = true)\n",
      " |-- trip_distance: double (nullable = true)\n",
      " |-- RatecodeID: double (nullable = true)\n",
      " |-- store_and_fwd_flag: string (nullable = true)\n",
      " |-- PULocationID: long (nullable = true)\n",
      " |-- DOLocationID: long (nullable = true)\n",
      " |-- payment_type: long (nullable = true)\n",
      " |-- fare_amount: double (nullable = true)\n",
      " |-- extra: double (nullable = true)\n",
      " |-- mta_tax: double (nullable = true)\n",
      " |-- tip_amount: double (nullable = true)\n",
      " |-- tolls_amount: double (nullable = true)\n",
      " |-- improvement_surcharge: double (nullable = true)\n",
      " |-- total_amount: double (nullable = true)\n",
      " |-- congestion_surcharge: double (nullable = true)\n",
      " |-- airport_fee: double (nullable = true)\n",
      "\n"
     ]
    }
   ],
   "source": [
    "df_yellow.printSchema()"
   ]
  },
  {
   "cell_type": "code",
   "execution_count": 19,
   "id": "b7b36ce1-f96f-4a60-8c6f-67226baaf79f",
   "metadata": {},
   "outputs": [
    {
     "name": "stdout",
     "output_type": "stream",
     "text": [
      "root\n",
      " |-- VendorID: long (nullable = true)\n",
      " |-- lpep_pickup_datetime: timestamp_ntz (nullable = true)\n",
      " |-- lpep_dropoff_datetime: timestamp_ntz (nullable = true)\n",
      " |-- store_and_fwd_flag: string (nullable = true)\n",
      " |-- RatecodeID: double (nullable = true)\n",
      " |-- PULocationID: long (nullable = true)\n",
      " |-- DOLocationID: long (nullable = true)\n",
      " |-- passenger_count: double (nullable = true)\n",
      " |-- trip_distance: double (nullable = true)\n",
      " |-- fare_amount: double (nullable = true)\n",
      " |-- extra: double (nullable = true)\n",
      " |-- mta_tax: double (nullable = true)\n",
      " |-- tip_amount: double (nullable = true)\n",
      " |-- tolls_amount: double (nullable = true)\n",
      " |-- ehail_fee: integer (nullable = true)\n",
      " |-- improvement_surcharge: double (nullable = true)\n",
      " |-- total_amount: double (nullable = true)\n",
      " |-- payment_type: double (nullable = true)\n",
      " |-- trip_type: double (nullable = true)\n",
      " |-- congestion_surcharge: double (nullable = true)\n",
      "\n"
     ]
    }
   ],
   "source": [
    "df_green.printSchema()"
   ]
  },
  {
   "cell_type": "code",
   "execution_count": 20,
   "id": "9b197c0e-2d42-4415-8df6-09f84cd0fef2",
   "metadata": {},
   "outputs": [
    {
     "name": "stdout",
     "output_type": "stream",
     "text": [
      "root\n",
      " |-- VendorID: long (nullable = true)\n",
      " |-- pickup_datetime: timestamp_ntz (nullable = true)\n",
      " |-- dropoff_datetime: timestamp_ntz (nullable = true)\n",
      " |-- passenger_count: double (nullable = true)\n",
      " |-- trip_distance: double (nullable = true)\n",
      " |-- RatecodeID: double (nullable = true)\n",
      " |-- store_and_fwd_flag: string (nullable = true)\n",
      " |-- PULocationID: long (nullable = true)\n",
      " |-- DOLocationID: long (nullable = true)\n",
      " |-- payment_type: long (nullable = true)\n",
      " |-- fare_amount: double (nullable = true)\n",
      " |-- extra: double (nullable = true)\n",
      " |-- mta_tax: double (nullable = true)\n",
      " |-- tip_amount: double (nullable = true)\n",
      " |-- tolls_amount: double (nullable = true)\n",
      " |-- improvement_surcharge: double (nullable = true)\n",
      " |-- total_amount: double (nullable = true)\n",
      " |-- congestion_surcharge: double (nullable = true)\n",
      " |-- airport_fee: double (nullable = true)\n",
      "\n"
     ]
    }
   ],
   "source": [
    "df_yellow = df_yellow \\\n",
    "    .withColumnRenamed('tpep_pickup_datetime', 'pickup_datetime') \\\n",
    "    .withColumnRenamed('tpep_dropoff_datetime', 'dropoff_datetime')\n",
    "\n",
    "df_yellow.printSchema()"
   ]
  },
  {
   "cell_type": "code",
   "execution_count": 21,
   "id": "60c4402b-d70f-492d-a309-cf10ef472349",
   "metadata": {},
   "outputs": [
    {
     "name": "stdout",
     "output_type": "stream",
     "text": [
      "root\n",
      " |-- VendorID: long (nullable = true)\n",
      " |-- pickup_datetime: timestamp_ntz (nullable = true)\n",
      " |-- dropoff_datetime: timestamp_ntz (nullable = true)\n",
      " |-- store_and_fwd_flag: string (nullable = true)\n",
      " |-- RatecodeID: double (nullable = true)\n",
      " |-- PULocationID: long (nullable = true)\n",
      " |-- DOLocationID: long (nullable = true)\n",
      " |-- passenger_count: double (nullable = true)\n",
      " |-- trip_distance: double (nullable = true)\n",
      " |-- fare_amount: double (nullable = true)\n",
      " |-- extra: double (nullable = true)\n",
      " |-- mta_tax: double (nullable = true)\n",
      " |-- tip_amount: double (nullable = true)\n",
      " |-- tolls_amount: double (nullable = true)\n",
      " |-- ehail_fee: integer (nullable = true)\n",
      " |-- improvement_surcharge: double (nullable = true)\n",
      " |-- total_amount: double (nullable = true)\n",
      " |-- payment_type: double (nullable = true)\n",
      " |-- trip_type: double (nullable = true)\n",
      " |-- congestion_surcharge: double (nullable = true)\n",
      "\n"
     ]
    }
   ],
   "source": [
    "df_green = df_green \\\n",
    "    .withColumnRenamed('lpep_pickup_datetime', 'pickup_datetime') \\\n",
    "    .withColumnRenamed('lpep_dropoff_datetime', 'dropoff_datetime')\n",
    "\n",
    "df_green.printSchema()"
   ]
  },
  {
   "cell_type": "code",
   "execution_count": 22,
   "id": "692f0021-ba44-4b95-ac44-01ba6662f4ed",
   "metadata": {},
   "outputs": [
    {
     "name": "stdout",
     "output_type": "stream",
     "text": [
      "['VendorID', 'pickup_datetime', 'dropoff_datetime', 'store_and_fwd_flag', 'RatecodeID', 'PULocationID', 'DOLocationID', 'passenger_count', 'trip_distance', 'fare_amount', 'extra', 'mta_tax', 'tip_amount', 'tolls_amount', 'improvement_surcharge', 'total_amount', 'payment_type', 'congestion_surcharge']\n"
     ]
    }
   ],
   "source": [
    "common_columns = []\n",
    "\n",
    "yellow_columns = set(df_yellow.columns)\n",
    "\n",
    "for col in df_green.columns:\n",
    "    if col in yellow_columns:\n",
    "        common_columns.append(col)\n",
    "\n",
    "print(common_columns)"
   ]
  },
  {
   "cell_type": "code",
   "execution_count": 23,
   "id": "a0b55485-f7b4-486b-80b4-166a0b97a7e3",
   "metadata": {},
   "outputs": [],
   "source": [
    "# Create a new column in the green df with value green for all rows so that these records can be distinguished from the yellow df when we join\n",
    "df_green_sel = df_green \\\n",
    "    .select(common_columns) \\\n",
    "    .withColumn('service_type', F.lit('green'))"
   ]
  },
  {
   "cell_type": "code",
   "execution_count": 24,
   "id": "0dead8c8-320c-497f-9cbc-04187f6b13ec",
   "metadata": {},
   "outputs": [],
   "source": [
    "# Same as above but for the yellow df \n",
    "df_yellow_sel = df_yellow \\\n",
    "    .select(common_columns) \\\n",
    "    .withColumn('service_type', F.lit('yellow'))"
   ]
  },
  {
   "cell_type": "code",
   "execution_count": 27,
   "id": "484f962f-7aab-4f20-9a22-51acd04d0bbc",
   "metadata": {},
   "outputs": [],
   "source": [
    "df_trips_data = df_green_sel.unionAll(df_yellow_sel)\n"
   ]
  },
  {
   "cell_type": "code",
   "execution_count": 28,
   "id": "0d34cd46-16f4-4465-aba1-d94bba43cf89",
   "metadata": {},
   "outputs": [
    {
     "name": "stderr",
     "output_type": "stream",
     "text": [
      "                                                                                \r"
     ]
    },
    {
     "name": "stdout",
     "output_type": "stream",
     "text": [
      "+------------+--------+\n",
      "|service_type|   count|\n",
      "+------------+--------+\n",
      "|       green| 1068755|\n",
      "|      yellow|30904308|\n",
      "+------------+--------+\n",
      "\n"
     ]
    }
   ],
   "source": [
    "df_trips_data.groupBy('service_type').count().show()\n"
   ]
  },
  {
   "cell_type": "code",
   "execution_count": 30,
   "id": "41727b1b-0330-430c-bb8a-f94e441a6e0d",
   "metadata": {},
   "outputs": [
    {
     "name": "stdout",
     "output_type": "stream",
     "text": [
      "root\n",
      " |-- VendorID: long (nullable = true)\n",
      " |-- pickup_datetime: timestamp_ntz (nullable = true)\n",
      " |-- dropoff_datetime: timestamp_ntz (nullable = true)\n",
      " |-- store_and_fwd_flag: string (nullable = true)\n",
      " |-- RatecodeID: double (nullable = true)\n",
      " |-- PULocationID: long (nullable = true)\n",
      " |-- DOLocationID: long (nullable = true)\n",
      " |-- passenger_count: double (nullable = true)\n",
      " |-- trip_distance: double (nullable = true)\n",
      " |-- fare_amount: double (nullable = true)\n",
      " |-- extra: double (nullable = true)\n",
      " |-- mta_tax: double (nullable = true)\n",
      " |-- tip_amount: double (nullable = true)\n",
      " |-- tolls_amount: double (nullable = true)\n",
      " |-- improvement_surcharge: double (nullable = true)\n",
      " |-- total_amount: double (nullable = true)\n",
      " |-- payment_type: double (nullable = true)\n",
      " |-- congestion_surcharge: double (nullable = true)\n",
      " |-- service_type: string (nullable = false)\n",
      "\n"
     ]
    }
   ],
   "source": [
    "df_trips_data.printSchema()"
   ]
  },
  {
   "cell_type": "code",
   "execution_count": 32,
   "id": "e76c5680-179d-4c02-a642-f58461a17b79",
   "metadata": {},
   "outputs": [],
   "source": [
    "# Create a temporary table with spark so we can query the combined dataframe using sql\n",
    "df_trips_data.createOrReplaceTempView ('trips_data')\n"
   ]
  },
  {
   "cell_type": "code",
   "execution_count": 33,
   "id": "e2726a51-230e-498f-bf72-3fc730c598de",
   "metadata": {},
   "outputs": [
    {
     "name": "stderr",
     "output_type": "stream",
     "text": [
      "[Stage 9:==================================================>        (6 + 1) / 7]\r"
     ]
    },
    {
     "name": "stdout",
     "output_type": "stream",
     "text": [
      "+------------+--------+\n",
      "|service_type|count(1)|\n",
      "+------------+--------+\n",
      "|       green| 1068755|\n",
      "|      yellow|30904308|\n",
      "+------------+--------+\n",
      "\n"
     ]
    },
    {
     "name": "stderr",
     "output_type": "stream",
     "text": [
      "                                                                                \r"
     ]
    }
   ],
   "source": [
    "spark.sql(\"\"\"\n",
    "SELECT\n",
    "    service_type,\n",
    "    count(1)\n",
    "FROM\n",
    "    trips_data\n",
    "GROUP BY \n",
    "    service_type\n",
    "\"\"\").show()"
   ]
  },
  {
   "cell_type": "code",
   "execution_count": 34,
   "id": "486b6ae0-5bfb-4f96-81ad-b7f2bed021de",
   "metadata": {},
   "outputs": [],
   "source": [
    "df_result = spark.sql(\"\"\"\n",
    "SELECT \n",
    "    -- Reveneue grouping \n",
    "    PULocationID AS revenue_zone,\n",
    "    date_trunc('month', pickup_datetime) AS revenue_month, \n",
    "    service_type, \n",
    "\n",
    "    -- Revenue calculation \n",
    "    SUM(fare_amount) AS revenue_monthly_fare,\n",
    "    SUM(extra) AS revenue_monthly_extra,\n",
    "    SUM(mta_tax) AS revenue_monthly_mta_tax,\n",
    "    SUM(tip_amount) AS revenue_monthly_tip_amount,\n",
    "    SUM(tolls_amount) AS revenue_monthly_tolls_amount,\n",
    "    SUM(improvement_surcharge) AS revenue_monthly_improvement_surcharge,\n",
    "    SUM(total_amount) AS revenue_monthly_total_amount,\n",
    "    SUM(congestion_surcharge) AS revenue_monthly_congestion_surcharge,\n",
    "\n",
    "    -- Additional calculations\n",
    "    AVG(passenger_count) AS avg_montly_passenger_count,\n",
    "    AVG(trip_distance) AS avg_montly_trip_distance\n",
    "FROM\n",
    "    trips_data\n",
    "GROUP BY\n",
    "    1, 2, 3\n",
    "\"\"\")"
   ]
  },
  {
   "cell_type": "code",
   "execution_count": 35,
   "id": "57309974-ac91-45fb-ae15-cc71ecd853d0",
   "metadata": {},
   "outputs": [
    {
     "name": "stderr",
     "output_type": "stream",
     "text": [
      "[Stage 12:=================================================>        (6 + 1) / 7]\r"
     ]
    },
    {
     "name": "stdout",
     "output_type": "stream",
     "text": [
      "+------------+-------------------+------------+--------------------+---------------------+-----------------------+--------------------------+----------------------------+-------------------------------------+----------------------------+------------------------------------+--------------------------+------------------------+\n",
      "|revenue_zone|      revenue_month|service_type|revenue_monthly_fare|revenue_monthly_extra|revenue_monthly_mta_tax|revenue_monthly_tip_amount|revenue_monthly_tolls_amount|revenue_monthly_improvement_surcharge|revenue_monthly_total_amount|revenue_monthly_congestion_surcharge|avg_montly_passenger_count|avg_montly_trip_distance|\n",
      "+------------+-------------------+------------+--------------------+---------------------+-----------------------+--------------------------+----------------------------+-------------------------------------+----------------------------+------------------------------------+--------------------------+------------------------+\n",
      "|          77|2021-11-01 00:00:00|       green|   7459.160000000001|   388.45000000000005|                   28.0|                     14.97|           345.0700000000003|                   59.099999999999795|           8297.499999999995|                                 0.0|        1.3833333333333333|       9.540203045685288|\n",
      "|         202|2021-11-01 00:00:00|       green|   2671.799999999999|               139.45|                   20.0|        28.929999999999996|          117.89999999999996|                   23.400000000000034|                     3009.73|                                 5.5|                     1.075|        8.06346153846154|\n",
      "|         138|2021-12-01 00:00:00|       green|   953.7099999999999|                  5.0|                   12.0|                    188.34|          45.849999999999994|                   11.100000000000005|          1224.2499999999995|                                8.25|        1.2432432432432432|       3.962307692307693|\n",
      "|          55|2021-09-01 00:00:00|       green|  22734.400000000038|    968.7000000000002|                   97.0|         555.8499999999999|           754.8499999999992|                    169.5000000000007|          25321.550000000003|                               30.25|         1.361904761904762|        577.160862676057|\n",
      "|         209|2021-09-01 00:00:00|       green|   792.0100000000002|                 49.5|                    1.0|                       0.0|                       15.55|                    5.999999999999998|                      864.06|                                 0.0|                       1.0|                   9.315|\n",
      "|         112|2021-06-01 00:00:00|       green|  2351.2999999999997|                75.25|                   23.5|         293.5100000000001|           58.94999999999999|                    32.10000000000005|          2897.8600000000006|                               24.75|        1.2765957446808511|       5.344766355140188|\n",
      "|         264|2021-05-01 00:00:00|       green|   2451.029999999999|                39.75|                   51.5|                    151.71|                       26.91|                   48.599999999999895|           2769.500000000005|                                8.25|        1.4685714285714286|      0.4736158192090396|\n",
      "|         238|2021-05-01 00:00:00|       green|             1727.66|               171.75|                   5.05|         4.300000000000001|           54.53999999999999|                   18.900000000000023|          1991.1999999999998|                                2.75|                       1.0|               6.4034375|\n",
      "|         191|2021-10-01 00:00:00|       green|   7550.810000000004|                390.6|                   28.0|                      21.5|                      174.77|                    59.69999999999979|           8228.129999999994|                                 0.0|        1.0526315789473684|       2928.138844221106|\n",
      "|         128|2021-11-01 00:00:00|       green|              665.49|                38.25|                    5.0|                     53.97|                         3.0|                    7.499999999999997|           786.9599999999997|                                11.0|                       1.0|      4692.9187999999995|\n",
      "|         156|2021-12-01 00:00:00|       green|   5011.999999999998|                 90.5|                   17.0|                       0.0|           555.3500000000004|                   20.100000000000026|                     5694.95|                                 0.0|        1.2647058823529411|      24.289701492537304|\n",
      "|         234|2021-05-01 00:00:00|       green|  1179.1099999999997|    94.79999999999998|                    0.5|                       0.0|           58.94999999999999|                    9.600000000000001|          1342.9600000000003|                                 0.0|                       1.0|              10.1196875|\n",
      "|         249|2021-05-01 00:00:00|       green|  358.14000000000004|                35.75|                    0.0|                       0.0|          22.650000000000002|                   3.2999999999999994|                      419.84|                                NULL|                      NULL|       9.125454545454547|\n",
      "|         243|2021-10-01 00:00:00|       green|   13752.01000000002|    483.8500000000001|                  142.0|        1032.2799999999997|           328.9000000000003|                   173.10000000000085|          16178.840000000024|                                88.0|        1.1661129568106312|       443.8262478485369|\n",
      "|         151|2021-10-01 00:00:00|       green|   3113.719999999999|               243.35|                    2.5|                     34.39|          100.26999999999997|                    29.40000000000005|           3533.630000000002|                                 0.0|                       1.0|      1814.0055102040817|\n",
      "|          90|2021-11-01 00:00:00|       green|             1447.16|                 97.6|                    1.5|                     21.93|          103.81999999999998|                   11.400000000000006|          1691.6600000000003|                                 0.0|                       1.0|        9.77157894736842|\n",
      "|          86|2021-09-01 00:00:00|       green|  8143.9499999999925|   396.95000000000005|                   19.0|        20.080000000000002|                      299.45|                   50.699999999999875|           8930.129999999997|                                 0.0|                       1.0|      459.32479289940846|\n",
      "|          28|2021-09-01 00:00:00|       green|   5258.520000000001|   339.15000000000003|                   21.0|         93.86999999999999|           210.5900000000001|                   54.899999999999835|           5983.529999999998|                                 5.5|                  1.296875|        990.949679144385|\n",
      "|          54|2021-09-01 00:00:00|       green|   852.0799999999997|                 28.5|                    2.0|        127.41999999999999|                       26.85|                                  8.7|                      1064.8|                                2.75|                       1.0|       7.183103448275862|\n",
      "|         180|2021-09-01 00:00:00|       green|   957.7800000000001|                58.75|                    3.0|                       0.0|          28.650000000000002|                                  9.0|          1059.1799999999998|                                 0.0|                       1.0|       751.4643333333332|\n",
      "+------------+-------------------+------------+--------------------+---------------------+-----------------------+--------------------------+----------------------------+-------------------------------------+----------------------------+------------------------------------+--------------------------+------------------------+\n",
      "only showing top 20 rows\n",
      "\n"
     ]
    },
    {
     "name": "stderr",
     "output_type": "stream",
     "text": [
      "                                                                                \r"
     ]
    }
   ],
   "source": [
    "df_result.show()"
   ]
  },
  {
   "cell_type": "code",
   "execution_count": 36,
   "id": "d071ffde-e22a-4b3f-98e3-074a5c328bda",
   "metadata": {},
   "outputs": [
    {
     "name": "stderr",
     "output_type": "stream",
     "text": [
      "                                                                                \r"
     ]
    }
   ],
   "source": [
    "# Write the result of the query to a new file\n",
    "df_result.coalesce(1).write.parquet('data/report/revenue/', mode='overwrite')\n"
   ]
  },
  {
   "cell_type": "code",
   "execution_count": null,
   "id": "b5c64451-e759-490b-a74f-43018f107213",
   "metadata": {},
   "outputs": [],
   "source": []
  }
 ],
 "metadata": {
  "kernelspec": {
   "display_name": "Python 3 (ipykernel)",
   "language": "python",
   "name": "python3"
  },
  "language_info": {
   "codemirror_mode": {
    "name": "ipython",
    "version": 3
   },
   "file_extension": ".py",
   "mimetype": "text/x-python",
   "name": "python",
   "nbconvert_exporter": "python",
   "pygments_lexer": "ipython3",
   "version": "3.12.3"
  }
 },
 "nbformat": 4,
 "nbformat_minor": 5
}
