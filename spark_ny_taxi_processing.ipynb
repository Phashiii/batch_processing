{
 "cells": [
  {
   "cell_type": "code",
   "execution_count": 4,
   "id": "d3faad76-5e6f-40f5-90a6-77563e5e7a12",
   "metadata": {},
   "outputs": [],
   "source": [
    "import pyspark\n",
    "from pyspark.sql import SparkSession"
   ]
  },
  {
   "cell_type": "code",
   "execution_count": 5,
   "id": "e4e12d52-7dfa-4ada-994a-fe98401db1eb",
   "metadata": {},
   "outputs": [
    {
     "name": "stderr",
     "output_type": "stream",
     "text": [
      "Setting default log level to \"WARN\".\n",
      "To adjust logging level use sc.setLogLevel(newLevel). For SparkR, use setLogLevel(newLevel).\n",
      "24/07/29 07:52:27 WARN NativeCodeLoader: Unable to load native-hadoop library for your platform... using builtin-java classes where applicable\n"
     ]
    }
   ],
   "source": [
    "spark = SparkSession. builder.master(\"local[*]\").appName(\"test\").getOrCreate()"
   ]
  },
  {
   "cell_type": "code",
   "execution_count": 20,
   "id": "24ed6285-5da6-4cf8-9643-c9c858c137d9",
   "metadata": {},
   "outputs": [
    {
     "name": "stdout",
     "output_type": "stream",
     "text": [
      "--2024-07-29 08:01:47--  https://d37ci6vzurychx.cloudfront.net/trip-data/fhvhv_tripdata_2021-02.parquet\n",
      "Resolving d37ci6vzurychx.cloudfront.net (d37ci6vzurychx.cloudfront.net)... 54.230.209.200, 54.230.209.140, 54.230.209.72, ...\n",
      "Connecting to d37ci6vzurychx.cloudfront.net (d37ci6vzurychx.cloudfront.net)|54.230.209.200|:443... connected.\n",
      "HTTP request sent, awaiting response... 200 OK\n",
      "Length: 302633211 (289M) [application/x-www-form-urlencoded]\n",
      "Saving to: ‘fhvhv_tripdata_2021-02.parquet’\n",
      "\n",
      "fhvhv_tripdata_2021 100%[===================>] 288.61M  37.4MB/s    in 7.6s    \n",
      "\n",
      "2024-07-29 08:01:56 (37.8 MB/s) - ‘fhvhv_tripdata_2021-02.parquet’ saved [302633211/302633211]\n",
      "\n"
     ]
    }
   ],
   "source": [
    "!wget https://d37ci6vzurychx.cloudfront.net/trip-data/fhvhv_tripdata_2021-02.parquet\n"
   ]
  },
  {
   "cell_type": "code",
   "execution_count": 23,
   "id": "ba7bba7b-ce0f-44f4-882e-97dde41bec24",
   "metadata": {},
   "outputs": [],
   "source": [
    "df = spark.read.option(\"header\",\"true\").parquet(\"fhvhv_tripdata_2021-02.parquet\")"
   ]
  },
  {
   "cell_type": "code",
   "execution_count": 29,
   "id": "86f1530d-2243-4f53-9ba4-cf081ea5b91b",
   "metadata": {},
   "outputs": [],
   "source": [
    "from pyspark.sql import types"
   ]
  },
  {
   "cell_type": "code",
   "execution_count": 24,
   "id": "89518737-e79b-43e3-830b-ec42dc150f29",
   "metadata": {},
   "outputs": [
    {
     "data": {
      "text/plain": [
       "StructType([StructField('hvfhs_license_num', StringType(), True), StructField('dispatching_base_num', StringType(), True), StructField('originating_base_num', StringType(), True), StructField('request_datetime', TimestampNTZType(), True), StructField('on_scene_datetime', TimestampNTZType(), True), StructField('pickup_datetime', TimestampNTZType(), True), StructField('dropoff_datetime', TimestampNTZType(), True), StructField('PULocationID', LongType(), True), StructField('DOLocationID', LongType(), True), StructField('trip_miles', DoubleType(), True), StructField('trip_time', LongType(), True), StructField('base_passenger_fare', DoubleType(), True), StructField('tolls', DoubleType(), True), StructField('bcf', DoubleType(), True), StructField('sales_tax', DoubleType(), True), StructField('congestion_surcharge', DoubleType(), True), StructField('airport_fee', DoubleType(), True), StructField('tips', DoubleType(), True), StructField('driver_pay', DoubleType(), True), StructField('shared_request_flag', StringType(), True), StructField('shared_match_flag', StringType(), True), StructField('access_a_ride_flag', StringType(), True), StructField('wav_request_flag', StringType(), True), StructField('wav_match_flag', StringType(), True)])"
      ]
     },
     "execution_count": 24,
     "metadata": {},
     "output_type": "execute_result"
    }
   ],
   "source": [
    "df.schema #check column types and names "
   ]
  },
  {
   "cell_type": "code",
   "execution_count": 56,
   "id": "30e85fb6-55e6-4766-995b-d11c0d1bc8b6",
   "metadata": {},
   "outputs": [],
   "source": [
    "schema = types.StructType([\n",
    "    types.StructField(\"hvfhs_license_num\", types.StringType(), True),\n",
    "    types.StructField(\"dispatching_base_num\", types.StringType(), True),\n",
    "    types.StructField(\"originating_base_num\", types.StringType(), True),\n",
    "    types.StructField(\"request_datetime\", types.TimestampType(), True),\n",
    "    types.StructField(\"on_scene_datetime\", types.TimestampType(), True),\n",
    "    types.StructField(\"pickup_datetime\", types.TimestampType(), True),\n",
    "    types.StructField(\"dropoff_datetime\", types.TimestampType(), True),\n",
    "    types.StructField(\"PULocationID\", types.LongType(), True),\n",
    "    types.StructField(\"DOLocationID\", types.LongType(), True),\n",
    "    types.StructField(\"trip_miles\", types.DoubleType(), True),\n",
    "    types.StructField(\"trip_time\", types.LongType(), True),\n",
    "    types.StructField(\"base_passenger_fare\", types.DoubleType(), True),\n",
    "    types.StructField(\"tolls\", types.DoubleType(), True),\n",
    "    types.StructField(\"bcf\", types.DoubleType(), True),\n",
    "    types.StructField(\"sales_tax\", types.DoubleType(), True),\n",
    "    types.StructField(\"congestion_surcharge\", types.DoubleType(), True),\n",
    "    types.StructField(\"airport_fee\", types.DoubleType(), True),\n",
    "    types.StructField(\"tips\", types.DoubleType(), True),\n",
    "    types.StructField(\"driver_pay\", types.DoubleType(), True),\n",
    "    types.StructField(\"shared_request_flag\", types.StringType(), True),\n",
    "    types.StructField(\"shared_match_flag\", types.StringType(), True),\n",
    "    types.StructField(\"access_a_ride_flag\", types.StringType(), True),\n",
    "    types.StructField(\"wav_request_flag\", types.StringType(), True),\n",
    "    types.StructField(\"wav_match_flag\", types.StringType(), True),\n",
    "\n",
    "])"
   ]
  },
  {
   "cell_type": "code",
   "execution_count": 57,
   "id": "e7695b1b-1501-41b2-a2d7-9000aadf4529",
   "metadata": {},
   "outputs": [],
   "source": [
    "df = spark.read.option(\"header\",\"true\").schema(schema).parquet(\"fhvhv_tripdata_2021-02.parquet\")"
   ]
  },
  {
   "cell_type": "code",
   "execution_count": 58,
   "id": "891cdaa4-d987-4738-a8ef-490dd0e642f4",
   "metadata": {},
   "outputs": [
    {
     "data": {
      "text/plain": [
       "StructType([StructField('hvfhs_license_num', StringType(), True), StructField('dispatching_base_num', StringType(), True), StructField('originating_base_num', StringType(), True), StructField('request_datetime', TimestampType(), True), StructField('on_scene_datetime', TimestampType(), True), StructField('pickup_datetime', TimestampType(), True), StructField('dropoff_datetime', TimestampType(), True), StructField('PULocationID', LongType(), True), StructField('DOLocationID', LongType(), True), StructField('trip_miles', DoubleType(), True), StructField('trip_time', LongType(), True), StructField('base_passenger_fare', DoubleType(), True), StructField('tolls', DoubleType(), True), StructField('bcf', DoubleType(), True), StructField('sales_tax', DoubleType(), True), StructField('congestion_surcharge', DoubleType(), True), StructField('airport_fee', DoubleType(), True), StructField('tips', DoubleType(), True), StructField('driver_pay', DoubleType(), True), StructField('shared_request_flag', StringType(), True), StructField('shared_match_flag', StringType(), True), StructField('access_a_ride_flag', StringType(), True), StructField('wav_request_flag', StringType(), True), StructField('wav_match_flag', StringType(), True)])"
      ]
     },
     "execution_count": 58,
     "metadata": {},
     "output_type": "execute_result"
    }
   ],
   "source": [
    "df.schema"
   ]
  },
  {
   "cell_type": "code",
   "execution_count": 59,
   "id": "9362fe8a-f4f5-4fa7-be4e-358298011789",
   "metadata": {},
   "outputs": [],
   "source": [
    "df = df.repartition(24) #break down the data in to 24 seperate partitions for better processing by spark cluster nodes"
   ]
  },
  {
   "cell_type": "code",
   "execution_count": 60,
   "id": "ccd73202-3997-440f-9df1-53abaa402e6f",
   "metadata": {},
   "outputs": [
    {
     "name": "stderr",
     "output_type": "stream",
     "text": [
      "                                                                                \r"
     ]
    }
   ],
   "source": [
    "\n",
    "df.write.parquet(\"fhvhv/2021/02/data/\") #Create 24 seperate parquet files in this directory "
   ]
  },
  {
   "cell_type": "code",
   "execution_count": 63,
   "id": "f529deb3-0dcb-4c92-b4fd-ca8b31b966fe",
   "metadata": {},
   "outputs": [
    {
     "name": "stdout",
     "output_type": "stream",
     "text": [
      "_SUCCESS\n",
      "part-00000-f4020195-ec01-4a10-8aac-7543b62aecd3-c000.snappy.parquet\n",
      "part-00001-f4020195-ec01-4a10-8aac-7543b62aecd3-c000.snappy.parquet\n",
      "part-00002-f4020195-ec01-4a10-8aac-7543b62aecd3-c000.snappy.parquet\n",
      "part-00003-f4020195-ec01-4a10-8aac-7543b62aecd3-c000.snappy.parquet\n",
      "part-00004-f4020195-ec01-4a10-8aac-7543b62aecd3-c000.snappy.parquet\n",
      "part-00005-f4020195-ec01-4a10-8aac-7543b62aecd3-c000.snappy.parquet\n",
      "part-00006-f4020195-ec01-4a10-8aac-7543b62aecd3-c000.snappy.parquet\n",
      "part-00007-f4020195-ec01-4a10-8aac-7543b62aecd3-c000.snappy.parquet\n",
      "part-00008-f4020195-ec01-4a10-8aac-7543b62aecd3-c000.snappy.parquet\n",
      "part-00009-f4020195-ec01-4a10-8aac-7543b62aecd3-c000.snappy.parquet\n",
      "part-00010-f4020195-ec01-4a10-8aac-7543b62aecd3-c000.snappy.parquet\n",
      "part-00011-f4020195-ec01-4a10-8aac-7543b62aecd3-c000.snappy.parquet\n",
      "part-00012-f4020195-ec01-4a10-8aac-7543b62aecd3-c000.snappy.parquet\n",
      "part-00013-f4020195-ec01-4a10-8aac-7543b62aecd3-c000.snappy.parquet\n",
      "part-00014-f4020195-ec01-4a10-8aac-7543b62aecd3-c000.snappy.parquet\n",
      "part-00015-f4020195-ec01-4a10-8aac-7543b62aecd3-c000.snappy.parquet\n",
      "part-00016-f4020195-ec01-4a10-8aac-7543b62aecd3-c000.snappy.parquet\n",
      "part-00017-f4020195-ec01-4a10-8aac-7543b62aecd3-c000.snappy.parquet\n",
      "part-00018-f4020195-ec01-4a10-8aac-7543b62aecd3-c000.snappy.parquet\n",
      "part-00019-f4020195-ec01-4a10-8aac-7543b62aecd3-c000.snappy.parquet\n",
      "part-00020-f4020195-ec01-4a10-8aac-7543b62aecd3-c000.snappy.parquet\n",
      "part-00021-f4020195-ec01-4a10-8aac-7543b62aecd3-c000.snappy.parquet\n",
      "part-00022-f4020195-ec01-4a10-8aac-7543b62aecd3-c000.snappy.parquet\n",
      "part-00023-f4020195-ec01-4a10-8aac-7543b62aecd3-c000.snappy.parquet\n"
     ]
    }
   ],
   "source": [
    "!ls fhvhv/2021/02/data\n",
    "\n"
   ]
  },
  {
   "cell_type": "code",
   "execution_count": null,
   "id": "35317133-9925-48cd-9352-cd29bdc19d11",
   "metadata": {},
   "outputs": [],
   "source": []
  }
 ],
 "metadata": {
  "kernelspec": {
   "display_name": "Python 3 (ipykernel)",
   "language": "python",
   "name": "python3"
  },
  "language_info": {
   "codemirror_mode": {
    "name": "ipython",
    "version": 3
   },
   "file_extension": ".py",
   "mimetype": "text/x-python",
   "name": "python",
   "nbconvert_exporter": "python",
   "pygments_lexer": "ipython3",
   "version": "3.12.3"
  }
 },
 "nbformat": 4,
 "nbformat_minor": 5
}
